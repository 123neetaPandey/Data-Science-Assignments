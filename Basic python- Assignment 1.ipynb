{
 "cells": [
  {
   "cell_type": "code",
   "execution_count": 1,
   "id": "c97f00fe",
   "metadata": {},
   "outputs": [
    {
     "ename": "SyntaxError",
     "evalue": "invalid syntax (Temp/ipykernel_12360/3283809929.py, line 5)",
     "output_type": "error",
     "traceback": [
      "\u001b[1;36m  File \u001b[1;32m\"C:\\Users\\Neeta\\AppData\\Local\\Temp/ipykernel_12360/3283809929.py\"\u001b[1;36m, line \u001b[1;32m5\u001b[0m\n\u001b[1;33m    (-, Expression)\u001b[0m\n\u001b[1;37m      ^\u001b[0m\n\u001b[1;31mSyntaxError\u001b[0m\u001b[1;31m:\u001b[0m invalid syntax\n"
     ]
    }
   ],
   "source": [
    "*        - Expression\n",
    "'hello'  - String\n",
    "-87.8    - Value\n",
    "-        - Expression\n",
    "/        - Expression\n",
    "+        - Expression\n",
    "6        - Value"
   ]
  },
  {
   "cell_type": "markdown",
   "id": "5faa10a4",
   "metadata": {},
   "source": [
    "2.What is the difference between string and variable?\n",
    "string :- string is one of several types of varible value. \n",
    "Variable:-Having different types of like like integer, string, float, etc. based on the value you assign to it. "
   ]
  },
  {
   "cell_type": "code",
   "execution_count": null,
   "id": "e694c2d5",
   "metadata": {},
   "outputs": [],
   "source": []
  },
  {
   "cell_type": "code",
   "execution_count": null,
   "id": "2d9f200e",
   "metadata": {},
   "outputs": [],
   "source": [
    "3. Three Different data typesype of \n",
    "1. Number\n",
    "2. String\n",
    "3. com[lex type]"
   ]
  },
  {
   "cell_type": "code",
   "execution_count": null,
   "id": "2c970d0f",
   "metadata": {},
   "outputs": [],
   "source": [
    "4.What is an expression made up of?\n",
    "Expression is made Expression is made up of values, containers, and mathematical operators (operands) \n",
    "e.g a = 2 + 3 and expressions are used to evaluate the values or represent the result on the screen.\n"
   ]
  },
  {
   "cell_type": "code",
   "execution_count": null,
   "id": "161131f6",
   "metadata": {},
   "outputs": [],
   "source": [
    "5. This assignment statements, like spam = 10. What is the difference between an\n",
    "expression and a statement?\n",
    "Expression:- is evaluate the value and returns the value\n",
    "Statement :- doen't returns the valuean and it's doesn't perform the actions.\n",
    "    eg 5+3=8 (returns the value is expression.)\n",
    "    the value is 5+3 (it's dosen't perform the actions statement.)"
   ]
  },
  {
   "cell_type": "code",
   "execution_count": null,
   "id": "d524ea15",
   "metadata": {},
   "outputs": [],
   "source": [
    "6. After running the following code, what does the variable bacon contain?\n",
    "bacon = 22\n",
    "Answer is 23 after print(bacon)"
   ]
  },
  {
   "cell_type": "code",
   "execution_count": null,
   "id": "30ec8d14",
   "metadata": {},
   "outputs": [],
   "source": [
    "7. What should the values of the following two terms be?\n",
    "\n",
    "\"spam\" + \"spamspam\"\n",
    "\"spam\" * 3\n",
    "\n",
    "'spamspamspam'\n",
    "'spamspamspam'"
   ]
  },
  {
   "cell_type": "code",
   "execution_count": null,
   "id": "b0195c03",
   "metadata": {},
   "outputs": [],
   "source": [
    "8. Why is eggs a valid variable name while 100 is invalid?\n",
    "\n",
    "Due to some python rules\n",
    "1 The first letter of a variable, function, or class must be one of the letters (a-z) or (A-Z).\n",
    "2 Numbers or special characters such as & and% are not allowed\n",
    "Special characters cannot be used in names\n",
    "\n",
    "100 is invalid whereas eggs is a valid variable name."
   ]
  },
  {
   "cell_type": "code",
   "execution_count": null,
   "id": "026eb237",
   "metadata": {},
   "outputs": [],
   "source": [
    "9. What three functions can be used to get the integer, floating-point number, or string\n",
    "version of a value?\n",
    "\n",
    "# string to integer\n",
    "value = '23'    # string type\n",
    "int_form = int(value)   # we get an integer type\n",
    "print(type(value), type(int_form))\n",
    "\n",
    "# string to float\n",
    "value = '231.21'    # string type\n",
    "float_form = float(value) # we get float point number\n",
    "print(type(value), type(float_form))\n",
    "\n",
    "# integer to string\n",
    "value = 45  # integer type\n",
    "str_form = str(value)   # we get string data type\n",
    "print(type(value), type(str_form))"
   ]
  },
  {
   "cell_type": "code",
   "execution_count": null,
   "id": "6a51afe1",
   "metadata": {},
   "outputs": [],
   "source": [
    "10.Why does this expression cause an error? How can you fix it?\n",
    "'I have eaten' + 99 + '' burritos'\n",
    "\n",
    "We cannot add a string data type with an integer data type. We need to convert integer to string and then evaluate the expression.\n",
    "'I have eaten ' + str(99) + ' burritos.'\n",
    "'I have eaten 99 burritos.'"
   ]
  }
 ],
 "metadata": {
  "kernelspec": {
   "display_name": "Python 3 (ipykernel)",
   "language": "python",
   "name": "python3"
  },
  "language_info": {
   "codemirror_mode": {
    "name": "ipython",
    "version": 3
   },
   "file_extension": ".py",
   "mimetype": "text/x-python",
   "name": "python",
   "nbconvert_exporter": "python",
   "pygments_lexer": "ipython3",
   "version": "3.9.7"
  }
 },
 "nbformat": 4,
 "nbformat_minor": 5
}
